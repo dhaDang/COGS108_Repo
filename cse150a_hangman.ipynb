{
  "cells": [
    {
      "cell_type": "code",
      "execution_count": 1,
      "metadata": {
        "colab": {
          "base_uri": "https://localhost:8080/"
        },
        "id": "Bm5XVULC2h6o",
        "outputId": "7906f1c3-6052-4d08-ca08-b349883a01d3"
      },
      "outputs": [
        {
          "output_type": "stream",
          "name": "stdout",
          "text": [
            "Cloning into 'hw1'...\n",
            "remote: Enumerating objects: 52, done.\u001b[K\n",
            "remote: Counting objects: 100% (52/52), done.\u001b[K\n",
            "remote: Compressing objects: 100% (41/41), done.\u001b[K\n",
            "remote: Total 52 (delta 25), reused 25 (delta 10), pack-reused 0 (from 0)\u001b[K\n",
            "Receiving objects: 100% (52/52), 722.58 KiB | 2.81 MiB/s, done.\n",
            "Resolving deltas: 100% (25/25), done.\n"
          ]
        }
      ],
      "source": [
        "# If cloning is needed -- i.e., if hangman.py and word counts are not already\n",
        "# available in file, you can run this\n",
        "!git clone https://github.com/ucsd-cse150a-w25/hw1.git\n",
        "!cp hw1/hangman.py hangman.py\n",
        "!cp hw1/hw1_word_counts_05.txt hw1_word_counts_05.txt"
      ]
    },
    {
      "cell_type": "code",
      "execution_count": 2,
      "metadata": {
        "colab": {
          "base_uri": "https://localhost:8080/"
        },
        "id": "mejsFmOR2h6p",
        "outputId": "ce81a18b-2328-4d4a-bd5b-446f6eb38caf"
      },
      "outputs": [
        {
          "output_type": "stream",
          "name": "stdout",
          "text": [
            "\n",
            "\n",
            "  +---+\n",
            "  O   |\n",
            "      |\n",
            "      |\n",
            "     ===\n",
            "\n",
            "Word: _ _ _ E R\n",
            "Tried letters: E, R, W\n",
            "Game over! The word was:  LITER\n"
          ]
        },
        {
          "output_type": "execute_result",
          "data": {
            "text/plain": [
              "0"
            ]
          },
          "metadata": {},
          "execution_count": 2
        }
      ],
      "source": [
        "from hangman import hangman_game\n",
        "\n",
        "# Play the game by yourself\n",
        "hangman_game()"
      ]
    },
    {
      "cell_type": "code",
      "execution_count": 6,
      "metadata": {
        "colab": {
          "base_uri": "https://localhost:8080/"
        },
        "id": "wmAFnxl_2h6p",
        "outputId": "c3261e72-7e8e-495c-c4c1-d410adced437"
      },
      "outputs": [
        {
          "output_type": "stream",
          "name": "stdout",
          "text": [
            "\n",
            "\n",
            "  +---+\n",
            "  O   |\n",
            " /|\\  |\n",
            " / \\  |\n",
            "     ===\n",
            "\n",
            "Word: L E _ _ _\n",
            "Tried letters: B, E, L, M, N, P, W, Y\n",
            "Game over! The word was:  LEAST\n"
          ]
        },
        {
          "output_type": "execute_result",
          "data": {
            "text/plain": [
              "0"
            ]
          },
          "metadata": {},
          "execution_count": 6
        }
      ],
      "source": [
        "import random\n",
        "\n",
        "def random_inference(\n",
        "    letters_tried: set[str],\n",
        "    word_pattern: list[str],\n",
        "    word_counts: dict[str, int]\n",
        ") -> str:\n",
        "    '''\n",
        "    Random inference for playing hangman. This should be a simple method which returns a letter\n",
        "    that is NOT in letters_tried but any other letter, at random.\n",
        "\n",
        "    Hint: use the random.choice method\n",
        "    '''\n",
        "\n",
        "   # TODO: Implement random inference code to guess hangman\n",
        "    alphabet = set(\"ABCDEFGHIJKLMNOPQRSTUVWXYZ\")\n",
        "    available = alphabet - letters_tried\n",
        "    if available:\n",
        "        return random.choice(list(available))\n",
        "    else:\n",
        "        return \"\"\n",
        "\n",
        "hangman_game(random_inference)"
      ]
    },
    {
      "cell_type": "code",
      "execution_count": 7,
      "metadata": {
        "id": "CGmWBdsXM4cN",
        "colab": {
          "base_uri": "https://localhost:8080/",
          "height": 573
        },
        "outputId": "4eb1740a-3027-4781-c08f-3c1a89bbbb8d"
      },
      "outputs": [
        {
          "output_type": "stream",
          "name": "stdout",
          "text": [
            "\n",
            "\n",
            "  +---+\n",
            "      |\n",
            "      |\n",
            "      |\n",
            "     ===\n",
            "\n",
            "Word: _ _ _ _ _\n",
            "Tried letters: \n"
          ]
        },
        {
          "output_type": "error",
          "ename": "ValueError",
          "evalue": "Your code predicted an invalid guess: ",
          "traceback": [
            "\u001b[0;31m---------------------------------------------------------------------------\u001b[0m",
            "\u001b[0;31mValueError\u001b[0m                                Traceback (most recent call last)",
            "\u001b[0;32m<ipython-input-7-3b76bc9f50dd>\u001b[0m in \u001b[0;36m<cell line: 0>\u001b[0;34m()\u001b[0m\n\u001b[1;32m     23\u001b[0m \u001b[0;34m\u001b[0m\u001b[0m\n\u001b[1;32m     24\u001b[0m \u001b[0;31m# Run the game\u001b[0m\u001b[0;34m\u001b[0m\u001b[0;34m\u001b[0m\u001b[0m\n\u001b[0;32m---> 25\u001b[0;31m \u001b[0mhangman_game\u001b[0m\u001b[0;34m(\u001b[0m\u001b[0mbayesian_inference\u001b[0m\u001b[0;34m)\u001b[0m\u001b[0;34m\u001b[0m\u001b[0;34m\u001b[0m\u001b[0m\n\u001b[0m",
            "\u001b[0;32m/content/hangman.py\u001b[0m in \u001b[0;36mhangman_game\u001b[0;34m(inference, word_file_path, interactive, seed)\u001b[0m\n\u001b[1;32m     86\u001b[0m         \u001b[0;32mif\u001b[0m \u001b[0;32mnot\u001b[0m \u001b[0mguess\u001b[0m \u001b[0;32mor\u001b[0m \u001b[0;32mnot\u001b[0m \u001b[0mguess\u001b[0m\u001b[0;34m.\u001b[0m\u001b[0misalpha\u001b[0m\u001b[0;34m(\u001b[0m\u001b[0;34m)\u001b[0m \u001b[0;32mor\u001b[0m \u001b[0mlen\u001b[0m\u001b[0;34m(\u001b[0m\u001b[0mguess\u001b[0m\u001b[0;34m)\u001b[0m \u001b[0;34m!=\u001b[0m \u001b[0;36m1\u001b[0m\u001b[0;34m:\u001b[0m\u001b[0;34m\u001b[0m\u001b[0;34m\u001b[0m\u001b[0m\n\u001b[1;32m     87\u001b[0m             \u001b[0;32mif\u001b[0m \u001b[0minference\u001b[0m\u001b[0;34m:\u001b[0m\u001b[0;34m\u001b[0m\u001b[0;34m\u001b[0m\u001b[0m\n\u001b[0;32m---> 88\u001b[0;31m                 \u001b[0;32mraise\u001b[0m \u001b[0mValueError\u001b[0m\u001b[0;34m(\u001b[0m\u001b[0;34mf'Your code predicted an invalid guess: {guess}'\u001b[0m\u001b[0;34m)\u001b[0m\u001b[0;34m\u001b[0m\u001b[0;34m\u001b[0m\u001b[0m\n\u001b[0m\u001b[1;32m     89\u001b[0m             \u001b[0mmessage\u001b[0m \u001b[0;34m=\u001b[0m \u001b[0;34m\"Invalid input. Please enter a single letter.\"\u001b[0m\u001b[0;34m\u001b[0m\u001b[0;34m\u001b[0m\u001b[0m\n\u001b[1;32m     90\u001b[0m             \u001b[0;32mcontinue\u001b[0m\u001b[0;34m\u001b[0m\u001b[0;34m\u001b[0m\u001b[0m\n",
            "\u001b[0;31mValueError\u001b[0m: Your code predicted an invalid guess: "
          ]
        }
      ],
      "source": [
        "def bayesian_inference(\n",
        "    letters_tried: set[str],\n",
        "    word_pattern: list[str],\n",
        "    word_counts: dict[str, int]\n",
        ") -> str:\n",
        "    '''\n",
        "    Bayesian inference method for playing hangman. The parameters given are as follows:\n",
        "\n",
        "    - letters_tried (set[str]): A set of strings which consist of all the letters that have already\n",
        "        been tried. For example, if 'A', 'E' has been guessed, `letters_tried = {'A', 'E'}`\n",
        "    - word_pattern (list[str]): A list of single characters that describe the current guess state.\n",
        "        For example, if the hangman state is _AB__, `word_pattern = ['_', 'A', 'B', '_', '_']`\n",
        "    - word_counts (dict[str, int]): The word counts dictionary which contains all possible 5 letter\n",
        "        words in our hangman game and their respective counts. For example, a key value pair could\n",
        "        be 'AARON': 413.\n",
        "\n",
        "    Return type: a single character string as your next best guess.\n",
        "    '''\n",
        "    # TODO: Implement inference code to play hangman optimally\n",
        "\n",
        "    return ''\n",
        "\n",
        "\n",
        "# Run the game\n",
        "hangman_game(bayesian_inference)"
      ]
    },
    {
      "cell_type": "code",
      "execution_count": null,
      "metadata": {
        "id": "X2HGAf5S2h6q"
      },
      "outputs": [],
      "source": [
        "from typing import Optional, Callable\n",
        "# from tqdm import tqdm\n",
        "\n",
        "def benchmark(\n",
        "    inference: Optional[Callable],\n",
        "    num_runs: int = 1000,\n",
        "    seed: int = 0\n",
        ") -> None:\n",
        "    '''\n",
        "    Benchmark method for testing out the bayesian inference method. The parameters given are:\n",
        "\n",
        "    - inference: The function that should match the bayesian_inference() method above.\n",
        "    - seed: The seed to pass into the hangman_game function.\n",
        "\n",
        "    Return type: none.\n",
        "\n",
        "    Print the accuracy out of num_runs. If the function throws an error, it should count as a fail.\n",
        "    '''\n",
        "    # TODO: Implement benchmark testing for a given function\n",
        "    # Hint: pass `seed = seed` into the hangman_game function to standardize the generated words.\n",
        "    # Hint: pass `interactive = False` into the hangman_game function to run faster without outputs.\n",
        "    # Optional: use the `tqdm` module to keep track of the evaluation progress.\n",
        "\n",
        "benchmark(random_inference)\n",
        "benchmark(bayesian_inference)"
      ]
    }
  ],
  "metadata": {
    "colab": {
      "provenance": [],
      "toc_visible": true
    },
    "kernelspec": {
      "display_name": "Python 3",
      "name": "python3"
    },
    "language_info": {
      "codemirror_mode": {
        "name": "ipython",
        "version": 3
      },
      "file_extension": ".py",
      "mimetype": "text/x-python",
      "name": "python",
      "nbconvert_exporter": "python",
      "pygments_lexer": "ipython3",
      "version": "3.11.0"
    }
  },
  "nbformat": 4,
  "nbformat_minor": 0
}